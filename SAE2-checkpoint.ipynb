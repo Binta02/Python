{
 "cells": [
  {
   "cell_type": "code",
   "execution_count": 1,
   "id": "095e3900",
   "metadata": {},
   "outputs": [],
   "source": [
    "li_friends= [\"Alice\", \"Bob\", \"Charlie\", \"Bob\",\"Dominique\", \"Alice\",\"Dominique\",\"Bob\"]"
   ]
  },
  {
   "cell_type": "code",
   "execution_count": 34,
   "id": "2fcb166c",
   "metadata": {},
   "outputs": [],
   "source": [
    "p_amis = [\"Muriel\", \"Yasmine\", \"Joel\", \"Muriel\", \"Yasmine\", \"Joel\",\"Yasmine\",\"Thomas\",\"Joel\",\"Nassim\",\"Joel\",\n",
    "          \"Andrea\",\"Joel\",\"Ali\",\"Nassim\",\"Andrea\",\"Nassim\",\"Ali\",\"Andrea\",\"Ali\",\"Thomas\",\"Daria\",\"Thomas\",\"Carole\",\n",
    "          \"Andrea\",\"Valentin\",\"Valentin\",\"Leo\",\"Leo\",\"Axel\",\"Axel\",\"Thierry\",\"Leo\",\"Thierry\"]"
   ]
  },
  {
   "cell_type": "code",
   "execution_count": 35,
   "id": "455846ef",
   "metadata": {},
   "outputs": [
    {
     "data": {
      "text/plain": [
       "{'Alice': ['Bob', 'Dominique'],\n",
       " 'Bob': ['Alice', 'Charlie', 'Dominique'],\n",
       " 'Charlie': ['Bob'],\n",
       " 'Dominique': ['Alice', 'Bob']}"
      ]
     },
     "execution_count": 35,
     "metadata": {},
     "output_type": "execute_result"
    }
   ],
   "source": [
    "def create_network(friends):\n",
    "    \"\"\"Retourne un dictionnaire en fonction du tableau d'amis mit en paramètre \"\"\"\n",
    "    dico={}\n",
    "    i=0\n",
    "    while i<len(friends)-1:\n",
    "        if friends[i] not in dico:\n",
    "            dico[friends[i]]=[]\n",
    "        if friends[i+1] not in dico:\n",
    "            dico[friends[i+1]]=[]\n",
    "        dico[friends[i]].append(friends[i+1])  \n",
    "        dico[friends[i+1]].append(friends[i])\n",
    "        i+=2\n",
    "    return dico\n",
    "\n",
    "create_network(li_friends)"
   ]
  },
  {
   "cell_type": "code",
   "execution_count": 36,
   "id": "b634e0d2",
   "metadata": {},
   "outputs": [
    {
     "data": {
      "text/plain": [
       "{'Muriel': ['Yasmine', 'Joel'],\n",
       " 'Yasmine': ['Muriel', 'Joel', 'Thomas'],\n",
       " 'Joel': ['Muriel', 'Yasmine', 'Nassim', 'Andrea', 'Ali'],\n",
       " 'Thomas': ['Yasmine', 'Daria', 'Carole'],\n",
       " 'Nassim': ['Joel', 'Andrea', 'Ali'],\n",
       " 'Andrea': ['Joel', 'Nassim', 'Ali', 'Valentin'],\n",
       " 'Ali': ['Joel', 'Nassim', 'Andrea'],\n",
       " 'Daria': ['Thomas'],\n",
       " 'Carole': ['Thomas'],\n",
       " 'Valentin': ['Andrea', 'Leo'],\n",
       " 'Leo': ['Valentin', 'Axel', 'Thierry'],\n",
       " 'Axel': ['Leo', 'Thierry'],\n",
       " 'Thierry': ['Axel', 'Leo']}"
      ]
     },
     "execution_count": 36,
     "metadata": {},
     "output_type": "execute_result"
    }
   ],
   "source": [
    "create_network(p_amis)"
   ]
  },
  {
   "cell_type": "code",
   "execution_count": 59,
   "id": "685c4ed6",
   "metadata": {},
   "outputs": [
    {
     "name": "stdout",
     "output_type": "stream",
     "text": [
      "test ok\n"
     ]
    }
   ],
   "source": [
    "def test_create_network():\n",
    "    assert create_network(li_friends)=={'Alice':['Bob', 'Dominique'],\n",
    "    'Bob': ['Alice', 'Charlie', 'Dominique'],\n",
    "    'Charlie': ['Bob'],'Dominique': ['Alice', 'Bob']}\n",
    "    assert not create_network(li_friends)=={'Alice':['Charlie'], \n",
    "    'Dominique':['Bob','Charlie']}\n",
    "    assert not create_network(p_amis)=={'Joel':['Nassim', 'Valentin','Ali']}\n",
    "    print(\"test ok\")\n",
    "    \n",
    "test_create_network()"
   ]
  },
  {
   "cell_type": "code",
   "execution_count": 38,
   "id": "f6a94a7a",
   "metadata": {},
   "outputs": [
    {
     "data": {
      "text/plain": [
       "['Alice', 'Bob', 'Charlie', 'Dominique']"
      ]
     },
     "execution_count": 38,
     "metadata": {},
     "output_type": "execute_result"
    }
   ],
   "source": [
    "def get_people(network):\n",
    "    \"\"\"Retourne le nom des participants du réseau\"\"\"\n",
    "    return list(network)\n",
    "\n",
    "n=create_network(li_friends)\n",
    "r=create_network(p_amis)\n",
    "\n",
    "get_people(n)"
   ]
  },
  {
   "cell_type": "code",
   "execution_count": 39,
   "id": "36529b0e",
   "metadata": {},
   "outputs": [
    {
     "data": {
      "text/plain": [
       "['Muriel',\n",
       " 'Yasmine',\n",
       " 'Joel',\n",
       " 'Thomas',\n",
       " 'Nassim',\n",
       " 'Andrea',\n",
       " 'Ali',\n",
       " 'Daria',\n",
       " 'Carole',\n",
       " 'Valentin',\n",
       " 'Leo',\n",
       " 'Axel',\n",
       " 'Thierry']"
      ]
     },
     "execution_count": 39,
     "metadata": {},
     "output_type": "execute_result"
    }
   ],
   "source": [
    "get_people(r)"
   ]
  },
  {
   "cell_type": "code",
   "execution_count": 60,
   "id": "96bda11e",
   "metadata": {},
   "outputs": [
    {
     "name": "stdout",
     "output_type": "stream",
     "text": [
      "test OK\n"
     ]
    }
   ],
   "source": [
    "def test_get_people():\n",
    "    assert get_people(create_network(li_friends))==['Alice', 'Bob', 'Charlie', 'Dominique']\n",
    "    assert not get_people(create_network(p_amis))==['Muriel', 'Joel', 'Yasmine']\n",
    "    assert not get_people(create_network(li_friends))==['']\n",
    "    \n",
    "    print(\"test OK\")\n",
    "test_get_people()"
   ]
  },
  {
   "cell_type": "code",
   "execution_count": 4,
   "id": "5ccaa48e",
   "metadata": {},
   "outputs": [
    {
     "data": {
      "text/plain": [
       "False"
      ]
     },
     "execution_count": 4,
     "metadata": {},
     "output_type": "execute_result"
    }
   ],
   "source": [
    "def are_friends(network, person1, person2):\n",
    "    \"\"\"Vérifie si les deux personnes en paramètre sont amies\"\"\"\n",
    "    if person2 in network[person1]:\n",
    "        return True\n",
    "    else:\n",
    "        return False\n",
    "    \n",
    "are_friends(n, 'Alice', 'Charlie')"
   ]
  },
  {
   "cell_type": "code",
   "execution_count": 41,
   "id": "303489c8",
   "metadata": {},
   "outputs": [
    {
     "data": {
      "text/plain": [
       "True"
      ]
     },
     "execution_count": 41,
     "metadata": {},
     "output_type": "execute_result"
    }
   ],
   "source": [
    "are_friends(r,'Muriel','Joel')"
   ]
  },
  {
   "cell_type": "code",
   "execution_count": 31,
   "id": "b457ea9e",
   "metadata": {},
   "outputs": [
    {
     "data": {
      "text/plain": [
       "True"
      ]
     },
     "execution_count": 31,
     "metadata": {},
     "output_type": "execute_result"
    }
   ],
   "source": [
    "def all_his_friends(network, person, group):\n",
    "    \"\"\"Vérifie si la personne en paramètre est bien amie avec le groupe mit en paramètre\"\"\"\n",
    "    i=0\n",
    "    while i<len(group):\n",
    "        if person!=group[i] and not are_friends(network,person,group[i]):\n",
    "            return False\n",
    "        i+=1\n",
    "    return True\n",
    "\n",
    "all_his_friends(n,'Alice',['Dominique','Bob'])"
   ]
  },
  {
   "cell_type": "code",
   "execution_count": 44,
   "id": "9a3da4cb",
   "metadata": {},
   "outputs": [
    {
     "data": {
      "text/plain": [
       "False"
      ]
     },
     "execution_count": 44,
     "metadata": {},
     "output_type": "execute_result"
    }
   ],
   "source": [
    "all_his_friends(r,'Muriel',['Thomas', 'Joel'])"
   ]
  },
  {
   "cell_type": "code",
   "execution_count": 51,
   "id": "be8b3575",
   "metadata": {},
   "outputs": [
    {
     "data": {
      "text/plain": [
       "True"
      ]
     },
     "execution_count": 51,
     "metadata": {},
     "output_type": "execute_result"
    }
   ],
   "source": [
    "def is_a_community(network, group):\n",
    "    \"\"\"Vérifie si le groupe en paramètre est une communauté\"\"\"\n",
    "    i=0\n",
    "    while i<len(group):\n",
    "        j=0\n",
    "        while j<len(group):\n",
    "            if not (are_friends(network,group[i],group[j])) and group[i] != group[j]:\n",
    "                return False\n",
    "            j+=1\n",
    "        i+=1\n",
    "    return True\n",
    "\n",
    "is_a_community(n, [\"Alice\",\"Bob\",\"Dominique\"])"
   ]
  },
  {
   "cell_type": "code",
   "execution_count": 45,
   "id": "33d6993c",
   "metadata": {},
   "outputs": [
    {
     "data": {
      "text/plain": [
       "True"
      ]
     },
     "execution_count": 45,
     "metadata": {},
     "output_type": "execute_result"
    }
   ],
   "source": [
    "is_a_community(r, [\"Leo\", \"Axel\", \"Thierry\"])"
   ]
  },
  {
   "cell_type": "code",
   "execution_count": 22,
   "id": "64042e7f",
   "metadata": {},
   "outputs": [
    {
     "data": {
      "text/plain": [
       "['Alice', 'Dominique', 'Bob']"
      ]
     },
     "execution_count": 22,
     "metadata": {},
     "output_type": "execute_result"
    }
   ],
   "source": [
    "def find_community(network, group):\n",
    "    \"\"\"Retourne une communauté qui est présente dans le groupe mit en paramètre\"\"\"\n",
    "    community = []\n",
    "    i = 0\n",
    "    while i < len(group):\n",
    "        community.append (group[i])\n",
    "        if not (is_a_community(network, community)):\n",
    "            community.pop()\n",
    "        i+=1\n",
    "    return community\n",
    "\n",
    "find_community(n, [\"Alice\", \"Dominique\", \"Bob\", \"Charlie\"])"
   ]
  },
  {
   "cell_type": "code",
   "execution_count": 54,
   "id": "d3f14ae2",
   "metadata": {},
   "outputs": [
    {
     "data": {
      "text/plain": [
       "['Joel', 'Yasmine', 'Muriel']"
      ]
     },
     "execution_count": 54,
     "metadata": {},
     "output_type": "execute_result"
    }
   ],
   "source": [
    "find_community(r,['Joel',\n",
    " 'Yasmine',\n",
    " 'Carole',\n",
    " 'Thomas',\n",
    " 'Muriel',\n",
    " 'Andrea',\n",
    " 'Ali',\n",
    " 'Daria',\n",
    " 'Nassim',\n",
    " 'Valentin',\n",
    " 'Leo',\n",
    " 'Axel',\n",
    " 'Thierry'])"
   ]
  },
  {
   "cell_type": "code",
   "execution_count": 27,
   "id": "cca21071",
   "metadata": {},
   "outputs": [
    {
     "data": {
      "text/plain": [
       "['Bob', 'Dominique', 'Alice']"
      ]
     },
     "execution_count": 27,
     "metadata": {},
     "output_type": "execute_result"
    }
   ],
   "source": [
    "def order_by_decreasing_popularity(network, group):\n",
    "    \"\"\"Retourne un groupe de personnes trié selon la popularité (nombre d'amis) décroissante\"\"\"\n",
    "    friends=[]\n",
    "    community=[]\n",
    "    i=0\n",
    "    while i<len(group):\n",
    "        tab=[len(network[group[i]]), group[i]]\n",
    "        friends.append(tab)\n",
    "        i+=1\n",
    "    friends.sort(reverse=True)\n",
    "    i=0\n",
    "    \n",
    "    while i<len(friends):\n",
    "        community.append(friends[i][1])\n",
    "        i+=1\n",
    "    return community\n",
    "\n",
    "order_by_decreasing_popularity(n,[\"Bob\",\"Alice\", \"Dominique\"])"
   ]
  },
  {
   "cell_type": "code",
   "execution_count": 50,
   "id": "8d110d3f",
   "metadata": {},
   "outputs": [
    {
     "data": {
      "text/plain": [
       "['Joel',\n",
       " 'Andrea',\n",
       " 'Yasmine',\n",
       " 'Thomas',\n",
       " 'Nassim',\n",
       " 'Leo',\n",
       " 'Ali',\n",
       " 'Valentin',\n",
       " 'Thierry',\n",
       " 'Muriel',\n",
       " 'Axel',\n",
       " 'Daria',\n",
       " 'Carole']"
      ]
     },
     "execution_count": 50,
     "metadata": {},
     "output_type": "execute_result"
    }
   ],
   "source": [
    "order_by_decreasing_popularity(r,['Carole',\n",
    " 'Yasmine',\n",
    " 'Joel',\n",
    " 'Thomas',\n",
    " 'Muriel',\n",
    " 'Andrea',\n",
    " 'Ali',\n",
    " 'Daria',\n",
    " 'Nassim',\n",
    " 'Valentin',\n",
    " 'Leo',\n",
    " 'Axel',\n",
    " 'Thierry'])"
   ]
  },
  {
   "cell_type": "code",
   "execution_count": 32,
   "id": "78450492",
   "metadata": {},
   "outputs": [
    {
     "data": {
      "text/plain": [
       "['Bob', 'Dominique', 'Alice']"
      ]
     },
     "execution_count": 32,
     "metadata": {},
     "output_type": "execute_result"
    }
   ],
   "source": [
    "def find_community_by_decreasing_popularity(network):\n",
    "    \"\"\"Retourne une communauté en fonction de la personne la plus populaire du réseau\"\"\"\n",
    "    friends=order_by_decreasing_popularity(network, get_people(network))\n",
    "    return find_community(network,friends)\n",
    "    \n",
    "find_community_by_decreasing_popularity(n)"
   ]
  },
  {
   "cell_type": "code",
   "execution_count": 57,
   "id": "072adcc3",
   "metadata": {},
   "outputs": [
    {
     "data": {
      "text/plain": [
       "['Joel', 'Andrea', 'Nassim', 'Ali']"
      ]
     },
     "execution_count": 57,
     "metadata": {},
     "output_type": "execute_result"
    }
   ],
   "source": [
    "find_community_by_decreasing_popularity(r)"
   ]
  },
  {
   "cell_type": "code",
   "execution_count": 29,
   "id": "21fbcfd3",
   "metadata": {},
   "outputs": [
    {
     "data": {
      "text/plain": [
       "['Alice', 'Bob', 'Dominique']"
      ]
     },
     "execution_count": 29,
     "metadata": {},
     "output_type": "execute_result"
    }
   ],
   "source": [
    "def find_community_from_person(network, person):\n",
    "    \"\"\"Retourne la communauté dont la personne en paramètre fait partie\"\"\"\n",
    "    community=[person]\n",
    "    friends=order_by_decreasing_popularity(network, network[person])\n",
    "    i=0\n",
    "    while i<len(network[person])-1:\n",
    "        if friends[i] in network[friends[i+1]]:\n",
    "            community.append(friends[i])\n",
    "            community.append(friends[i+1])\n",
    "        i+=1\n",
    "    if len(network[person])==1:\n",
    "        community.append(friends[0])\n",
    "    return community\n",
    "\n",
    "find_community_from_person(n,'Alice')"
   ]
  },
  {
   "cell_type": "code",
   "execution_count": 56,
   "id": "a0c1f3c2",
   "metadata": {},
   "outputs": [
    {
     "data": {
      "text/plain": [
       "['Muriel', 'Joel', 'Yasmine']"
      ]
     },
     "execution_count": 56,
     "metadata": {},
     "output_type": "execute_result"
    }
   ],
   "source": [
    "find_community_from_person(r,'Muriel')"
   ]
  },
  {
   "cell_type": "code",
   "execution_count": 30,
   "id": "ea9252fa",
   "metadata": {},
   "outputs": [
    {
     "data": {
      "text/plain": [
       "['Alice', 'Bob', 'Dominique']"
      ]
     },
     "execution_count": 30,
     "metadata": {},
     "output_type": "execute_result"
    }
   ],
   "source": [
    "def find_max_community(network):\n",
    "    \"\"\"Retourne la communauté la plus grande du réseau\"\"\"\n",
    "    max_community=''\n",
    "    n=get_people(network)\n",
    "    i=0\n",
    "    while i<len(network):\n",
    "        community=find_community_from_person(network,n[i])\n",
    "        if len(community)>len(max_community):\n",
    "            max_community=community\n",
    "        i+=1\n",
    "    return max_community\n",
    "\n",
    "find_max_community(n)"
   ]
  },
  {
   "cell_type": "code",
   "execution_count": 58,
   "id": "db1688b5",
   "metadata": {},
   "outputs": [
    {
     "data": {
      "text/plain": [
       "['Nassim', 'Joel', 'Andrea', 'Andrea', 'Ali']"
      ]
     },
     "execution_count": 58,
     "metadata": {},
     "output_type": "execute_result"
    }
   ],
   "source": [
    "find_max_community(r)"
   ]
  },
  {
   "cell_type": "code",
   "execution_count": null,
   "id": "cdbc7f01",
   "metadata": {},
   "outputs": [],
   "source": []
  }
 ],
 "metadata": {
  "kernelspec": {
   "display_name": "Python 3 (ipykernel)",
   "language": "python",
   "name": "python3"
  },
  "language_info": {
   "codemirror_mode": {
    "name": "ipython",
    "version": 3
   },
   "file_extension": ".py",
   "mimetype": "text/x-python",
   "name": "python",
   "nbconvert_exporter": "python",
   "pygments_lexer": "ipython3",
   "version": "3.9.12"
  }
 },
 "nbformat": 4,
 "nbformat_minor": 5
}
