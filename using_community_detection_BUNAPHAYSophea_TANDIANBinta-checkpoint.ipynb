{
 "cells": [
  {
   "cell_type": "markdown",
   "id": "9a0b0c80",
   "metadata": {},
   "source": [
    "BUN APHAY Sophea\n",
    "\n",
    "TANDIAN Binta"
   ]
  },
  {
   "cell_type": "code",
   "execution_count": 1,
   "id": "cf708b6e",
   "metadata": {},
   "outputs": [],
   "source": [
    "from community_detection_BUNAPHAYSophea_TANDIANBinta import*\n",
    "from time import time"
   ]
  },
  {
   "cell_type": "code",
   "execution_count": 10,
   "id": "ce36bd2b",
   "metadata": {},
   "outputs": [],
   "source": [
    "friends= [\"Alice\", \"Bob\", \"Charlie\", \"Bob\",\"Dominique\", \"Alice\",\"Dominique\",\"Bob\"]\n",
    "friends2=friends.copy()"
   ]
  },
  {
   "cell_type": "code",
   "execution_count": 11,
   "id": "02d014fa",
   "metadata": {},
   "outputs": [],
   "source": [
    "n=create_network(friends)\n",
    "n2=n.copy()"
   ]
  },
  {
   "cell_type": "markdown",
   "id": "805a8b2d",
   "metadata": {},
   "source": [
    "# Question 2"
   ]
  },
  {
   "cell_type": "code",
   "execution_count": 12,
   "id": "68bafba2",
   "metadata": {},
   "outputs": [],
   "source": [
    "def mesure_dico_reseau(li):\n",
    "    \"\"\"Calcul de la complexité de dico_reseau\"\"\"\n",
    "    nb_mesures=500\n",
    "    \n",
    "    tic=time()\n",
    "    \n",
    "    i=0\n",
    "    while i<nb_mesures:\n",
    "        dico_reseau(li)\n",
    "        i=i+1\n",
    "        \n",
    "    tac=time()\n",
    "    \n",
    "    return round(1000*(tac-tic) / nb_mesures, 3)\n",
    "\n",
    "\n",
    "\n",
    "def mesure_create_network(li):\n",
    "    \"\"\"Calcul de la complexité de create_network\"\"\"\n",
    "    nb_mesures=500\n",
    "    \n",
    "    tic=time()\n",
    "    \n",
    "    i=0\n",
    "    while i<nb_mesures:\n",
    "        create_network(li)\n",
    "        i=i+1\n",
    "        \n",
    "    tac=time()\n",
    "    \n",
    "    return round(1000*(tac-tic) / nb_mesures, 3)"
   ]
  },
  {
   "cell_type": "code",
   "execution_count": 14,
   "id": "99b73090",
   "metadata": {},
   "outputs": [
    {
     "name": "stdout",
     "output_type": "stream",
     "text": [
      "Tps moyen pour la fonction dico_reseau : 0.016 ms\n",
      "Tps moyen pour la fonction create_network : 0.0 ms\n"
     ]
    }
   ],
   "source": [
    "tps = mesure_dico_reseau(friends)\n",
    "print(\"Tps moyen pour la fonction dico_reseau :\", tps, \"ms\")\n",
    "\n",
    "tps = mesure_create_network(friends2)\n",
    "print(\"Tps moyen pour la fonction create_network :\", tps, \"ms\")"
   ]
  },
  {
   "cell_type": "markdown",
   "id": "cbb7dc89",
   "metadata": {},
   "source": [
    "La fonction dico_reseau a une complexité quadratique, c'est à dire O(n²). Elle appelle une fonction qui contient une boucle dans sa fonction qui contient aussi une boucle, et donc cela créé une boucle imbriqué.\n",
    "\n",
    "La fonction create_network a une complexité linéaire, c'est-à-dire O(n). Elle ne contient qu'une seule boucle.\n",
    "\n",
    "Donc la fonction dico_reseau est plus complexe, nous pouvons le voir grâce aux fonctions qui calculent les compléxités \"mesure_dico_reseau\" et \"mesure_create_network\"."
   ]
  },
  {
   "cell_type": "markdown",
   "id": "94b0555c",
   "metadata": {},
   "source": [
    "# Question 11"
   ]
  },
  {
   "cell_type": "code",
   "execution_count": 15,
   "id": "b9cb498b",
   "metadata": {},
   "outputs": [],
   "source": [
    "def mesure_find_community_by_decreasing_popularity(network):\n",
    "    \"\"\"Calcul de la complexité de find_community_by_decreasing_popularity\"\"\"\n",
    "    nb_mesures=500\n",
    "    \n",
    "    tic=time()\n",
    "    \n",
    "    i=0\n",
    "    while i<500:\n",
    "        find_community_by_decreasing_popularity(network)\n",
    "        i=i+1\n",
    "        \n",
    "    tac=time()\n",
    "    \n",
    "    return round(1000*(tac-tic) / nb_mesures, 3)\n",
    "\n",
    "\n",
    "\n",
    "def mesure_community_from_person(network):\n",
    "    \"\"\"Calcul de la complexité de community_from_person\"\"\"\n",
    "    nb_mesures=500\n",
    "    \n",
    "    tic=time()\n",
    "    \n",
    "    i=0\n",
    "    while i<500:\n",
    "        find_community_from_person(network, \"Dominique\")\n",
    "        i=i+1\n",
    "        \n",
    "    tac=time()\n",
    "    \n",
    "    return round(1000*(tac-tic) / nb_mesures, 3)"
   ]
  },
  {
   "cell_type": "code",
   "execution_count": 16,
   "id": "64853657",
   "metadata": {},
   "outputs": [
    {
     "name": "stdout",
     "output_type": "stream",
     "text": [
      "Tps moyen pour la fonction mesure_find_community_by_decreasing_popularity : 0.025 ms\n",
      "Tps moyen pour la fonction mesure_community_from_person : 0.003 ms\n"
     ]
    }
   ],
   "source": [
    "tps = mesure_find_community_by_decreasing_popularity(n)\n",
    "print(\"Tps moyen pour la fonction mesure_find_community_by_decreasing_popularity :\", tps, \"ms\")\n",
    "\n",
    "tps = mesure_community_from_person(n)\n",
    "print(\"Tps moyen pour la fonction mesure_community_from_person :\", tps, \"ms\")"
   ]
  },
  {
   "cell_type": "markdown",
   "id": "aee4a8b3",
   "metadata": {},
   "source": [
    "La fonction find_community_by_decreasing_popularity a une compléxité linéaire, c'est-à-dire O(8n). Cette fonction appelle la fonction order_by_decreasing_popularity qui contient 2 boucles (non imbriquées), et elle appelle la fonction find_community qui ne contient qu'une seule boucle, donc en tout cette fonction a 3 boucles.\n",
    "\n",
    "la fonction find_community_from_person a une compléxité linéaire, c'est-à-dire O(3n). Elle n'a qu'une seule boucle, et elle appelle la fonction order_by_decreasing_popularity qui en a 2, donc la fonction a 3 boucles.\n",
    "\n",
    "Les 2 fonctions ont une complexité similaire, celle-ci peut changer en fonction des prénoms utilisés pour la fonction find_community_from_person : plus la personne choisi est populaire, plus le tps sera élevé."
   ]
  }
 ],
 "metadata": {
  "kernelspec": {
   "display_name": "Python 3 (ipykernel)",
   "language": "python",
   "name": "python3"
  },
  "language_info": {
   "codemirror_mode": {
    "name": "ipython",
    "version": 3
   },
   "file_extension": ".py",
   "mimetype": "text/x-python",
   "name": "python",
   "nbconvert_exporter": "python",
   "pygments_lexer": "ipython3",
   "version": "3.9.12"
  }
 },
 "nbformat": 4,
 "nbformat_minor": 5
}
